{
 "cells": [
  {
   "cell_type": "code",
   "execution_count": 1,
   "id": "e52e0b6c",
   "metadata": {},
   "outputs": [],
   "source": [
    "import webbrowser"
   ]
  },
  {
   "cell_type": "code",
   "execution_count": 3,
   "id": "ecc5ac83",
   "metadata": {},
   "outputs": [
    {
     "data": {
      "text/plain": [
       "True"
      ]
     },
     "execution_count": 3,
     "metadata": {},
     "output_type": "execute_result"
    }
   ],
   "source": [
    "url = 'www.naver.com'\n",
    "webbrowser.open(url)"
   ]
  },
  {
   "cell_type": "code",
   "execution_count": 6,
   "id": "0e18d06d",
   "metadata": {},
   "outputs": [
    {
     "data": {
      "text/plain": [
       "True"
      ]
     },
     "execution_count": 6,
     "metadata": {},
     "output_type": "execute_result"
    }
   ],
   "source": [
    "naver_search_url ='https://search.naver.com/search.naver?where=nexearch&sm=top_hty&fbm=0&ie=utf8&query='\n",
    "search_word = '파이썬'\n",
    "\n",
    "url = naver_search_url+search_word\n",
    "webbrowser.open(url)"
   ]
  },
  {
   "cell_type": "code",
   "execution_count": 8,
   "id": "9f140f67",
   "metadata": {},
   "outputs": [
    {
     "data": {
      "text/plain": [
       "True"
      ]
     },
     "execution_count": 8,
     "metadata": {},
     "output_type": "execute_result"
    }
   ],
   "source": [
    "google_search_url ='https://www.google.com/search?q='\n",
    "search_word = '파이썬'\n",
    "\n",
    "url = google_search_url+search_word\n",
    "webbrowser.open(url)"
   ]
  },
  {
   "cell_type": "code",
   "execution_count": 9,
   "id": "86c300bd",
   "metadata": {},
   "outputs": [
    {
     "name": "stdout",
     "output_type": "stream",
     "text": [
      "Writing HTML_example.html\n"
     ]
    }
   ],
   "source": [
    "%%writefile HTML_example.html\n",
    "<!doctype html>\n",
    " <html>\n",
    " <head>\n",
    " <meta charset=\"utf-8\">\n",
    " <title>이것은 HTML 예제</title>\n",
    " </head>\n",
    " <body>\n",
    " <h1>출간된 책 정보</h1>\n",
    " <p id=\"book_title\">이해가 쏙쏙 되는 파이썬</p>\n",
    " <p id=\"author\">홍길동</p>\n",
    " <p id=\"publisher\">위키북스 출판사</p>\n",
    " <p id=\"year\">2018</p>\n",
    " </body>\n",
    " </html>"
   ]
  },
  {
   "cell_type": "markdown",
   "id": "2aec0693",
   "metadata": {},
   "source": [
    "# 웹페이지 html소스 가져오기"
   ]
  },
  {
   "cell_type": "code",
   "execution_count": 10,
   "id": "f89a6a56",
   "metadata": {},
   "outputs": [],
   "source": [
    "import requests"
   ]
  },
  {
   "cell_type": "code",
   "execution_count": 13,
   "id": "ebdf216d",
   "metadata": {},
   "outputs": [
    {
     "data": {
      "text/plain": [
       "<Response [200]>"
      ]
     },
     "execution_count": 13,
     "metadata": {},
     "output_type": "execute_result"
    }
   ],
   "source": [
    "r = requests.get('https://www.google.co.kr')\n",
    "r"
   ]
  },
  {
   "cell_type": "code",
   "execution_count": 15,
   "id": "0c09d20e",
   "metadata": {},
   "outputs": [
    {
     "data": {
      "text/plain": [
       "'<!doctype html><html itemscope=\"\" itemtype=\"http://schema.org/WebPage\" lang=\"ko\"><head><meta content'"
      ]
     },
     "execution_count": 15,
     "metadata": {},
     "output_type": "execute_result"
    }
   ],
   "source": [
    "# <Response [200]>이 나온 것은 제대로 된 것임 오류시 오류코드 200이아닌 것이 나옴\n",
    "r.text[0:100]#100글자만 가져오기"
   ]
  },
  {
   "cell_type": "code",
   "execution_count": 18,
   "id": "9867171d",
   "metadata": {},
   "outputs": [
    {
     "data": {
      "text/plain": [
       "'<!doctype html><html itemscope=\"\" itemtype=\"http://schema.org/WebPage\" lang=\"ko\"><head><meta content=\"text/html; charset=UTF-8\" http-equiv=\"Content-Type\"><meta content=\"/images/branding/googleg/1x/goo'"
      ]
     },
     "execution_count": 18,
     "metadata": {},
     "output_type": "execute_result"
    }
   ],
   "source": [
    "import requests\n",
    "html = requests.get('https://www.google.co.kr').text\n",
    "html[0:200]"
   ]
  },
  {
   "cell_type": "code",
   "execution_count": 20,
   "id": "7a033f86",
   "metadata": {},
   "outputs": [
    {
     "data": {
      "text/plain": [
       "'<!doctype html><html itemscope=\"\" itemtype=\"http://schema.org/WebPage\" lang=\"ko\"><head><meta content=\"text/html; charset=UTF-8\" http-equiv=\"Content-Type\"><meta content=\"/images/branding/googleg/1x/googleg_standard_color_128dp.png\" itemprop=\"image\"><title>Google</title><script nonce=\"fZXQGZTPs8Yvre2JH2vddg==\">(function(){window.google={kEI:\\'RLnrYNv3DuHTmAWlvqzgDw\\',kEXPI:\\'0,772215,1,530320,56873,954,5105,206,4804,2316,383,246,5,1354,5250,1122516,1197712,570,93,328892,51224,16114,17444,11240,17572,4859,1361,9290,3030,2814,14765,4020,978,13228,6165,8304,7432,7096,4517,2778,920,260,4819,887,706,1279,2212,530,149,1945,2194,4101,3514,606,2024,1776,522,14668,603,2624,1990,855,7,4811,7543,5096,7540,337,3747,1289,3407,908,2,941,2614,3783,9359,3,346,230,4385,2074,149,13975,4,1253,275,2304,1236,5226,577,4684,2014,4067,9544,4764,2658,4243,2458,656,30,15933,638,1494,5586,3772,6763,665,2522,3302,2305,228,992,3102,17,3121,6,908,3,3541,1,8710,6000,1815,282,912,5994,12524,2,1394,2806,1715,2,3057,2538,2,1,3,3622,1331,1562,2,563,1341,1339,592,1532,2379,91,550,1163,617,1275,1075,3503,1576,3,472,42,1602,173,2738,2228,587,2,1040,76,1084,1269,3426,2,399,1312,292,1440,33,644,263,1575,1144,2508,1164,767,106,3,123,748,3859,339,347,57,13,1447,2433,7,9,1,725,585,238,226,164,1965,408,2,6,83,2,6,25,2184,119,395,642,350,2,1,1061,2477,17,290,588,85,57,269,94,19,781,16,36,2,103,191,137,432,1060,3,464,595,1137,55,1017,507,206,296,74,2578,5616898,194,32,220,58,5996810,2800697,882,444,1,2,80,1,1796,1,9,2,2551,1,748,141,795,563,1,4265,1,1,2,1331,3299,843,2609,155,17,13,72,139,4,2,20,2,169,13,19,46,5,39,96,548,29,2,2,1,2,1,2,2,7,4,1,2,2,2,2,2,2,353,513,186,1,1,23,14,7,4,2,4,83,21,3,2,2,2,2,2,4,2,3,3,64,4,140,23954784,2857453,1154923,27334,1509,3,120,3,6,338,3,1453,387,500,74,541,476,762,1007,109\\',kBL:\\'nKur\\'};google.sn=\\'webhp\\';google.kHL=\\'ko\\';})();(function(){\\nvar f=this||self;var h,k=[];function l(a){for(var b;a&&(!a.getAttribute||!(b=a.getAttribute(\"eid\")));)a=a.parentNode;return b||h}function m(a){for(var b=null;a&&(!a.getAttribute||!(b=a.getAttribute(\"leid\")));)a=a.parentNode;return b}\\nfunction n(a,b,c,d,g){var e=\"\";c||-1!==b.search(\"&ei=\")||(e=\"&ei=\"+l(d),-1===b.search(\"&lei=\")&&(d=m(d))&&(e+=\"&lei=\"+d));d=\"\";!c&&f._cshid&&-1===b.search(\"&cshid=\")&&\"slh\"!==a&&(d=\"&cshid=\"+f._cshid);c=c||\"/\"+(g||\"gen_204\")+\"?atyp=i&ct=\"+a+\"&cad=\"+b+e+\"&zx=\"+Date.now()+d;/^http:/i.test(c)&&\"https:\"===window.location.protocol&&(google.ml&&google.ml(Error(\"a\"),!1,{src:c,glmm:1}),c=\"\");return c};h=google.kEI;google.getEI=l;google.getLEI=m;google.ml=function(){return null};google.log=function(a,b,c,d,g){if(c=n(a,b,c,d,g)){a=new Image;var e=k.length;k[e]=a;a.onerror=a.onload=a.onabort=function(){delete k[e]};a.src=c}};google.logUrl=n;}).call(this);(function(){\\ngoogle.y={};google.sy=[];google.x=function(a,b){if(a)var c=a.id;else{do c=Math.random();while(google.y[c])}google.y[c]=[a,b];return!1};google.sx=function(a){google.sy.push(a)};google.lm=[];google.plm=function(a){google.lm.push.apply(google.lm,a)};google.lq=[];google.load=function(a,b,c){google.lq.push([[a],b,c])};google.loadAll=function(a,b){google.lq.push([a,b])};google.bx=!1;google.lx=function(){};}).call(this);google.f={};(function(){\\ndocument.documentElement.addEventListener(\"submit\",function(b){var a;if(a=b.target){var c=a.getAttribute(\"data-submitfalse\");a=\"1\"==c||\"q\"==c&&!a.elements.q.value?!0:!1}else a=!1;a&&(b.preventDefault(),b.stopPropagation())},!0);document.documentElement.addEventListener(\"click\",function(b){var a;a:{for(a=b.target;a&&a!=document.documentElement;a=a.parentElement)if(\"A\"==a.tagName){a=\"1\"==a.getAttribute(\"data-nohref\");break a}a=!1}a&&b.preventDefault()},!0);}).call(this);</script><style>#gbar,#guser{font-size:13px;padding-top:1px !important;}#gbar{height:22px}#guser{padding-bottom:7px !important;text-align:right}.gbh,.gbd{border-top:1px solid #c9d7f1;font-size:1px}.gbh{height:0;position:absolute;top:24px;width:100%}@media all{.gb1{height:22px;margin-right:.5em;vertical-align:top}#gbar{float:left}}a.gb1,a.gb4{text-decoration:underline !important}a.gb1,a.gb4{color:#00c !important}.gbi .gb4{color:#dd8e27 !important}.gbf .gb4{color:#900 !important}\\n</style><style>body,td,a,p,.h{font-family:굴림,돋움,arial,sans-serif}.ko{font-size:9pt}body{margin:0;overflow-y:scroll}#gog{padding:3px 8px 0}td{line-height:.8em}.gac_m td{line-height:17px}form{margin-bottom:20px}.h{color:#1558d6}em{font-weight:bold;font-style:normal}.lst{height:25px;width:496px}.gsfi,.lst{font:18px arial,sans-serif}.gsfs{font:17px arial,sans-serif}.ds{display:inline-box;display:inline-block;margin:3px 0 4px;margin-left:4px}input{font-family:inherit}body{background:#fff;color:#000}a{color:#4b11a8;text-decoration:none}a:hover,a:active{text-decoration:underline}.fl a{color:#1558d6}a:visited{color:#4b11a8}.sblc{padding-top:5px}.sblc a{display:block;margin:2px 0;margin-left:13px;font-size:11px}.lsbb{background:#f8f9fa;border:solid 1px;border-color:#dadce0 #70757a #70757a #dadce0;height:30px}.lsbb{display:block}#WqQANb a{display:inline-block;margin:0 12px}.lsb{background:url(/images/nav_logo229.png) 0 -261px repeat-x;border:none;color:#000;cursor:pointer;height:30px;margin:0;outline:0;font:15px arial,sans-serif;vertical-align:top}.lsb:active{background:#dadce0}.lst:focus{outline:none}.tiah{width:458px}</style><script nonce=\"fZXQGZTPs8Yvre2JH2vddg==\"></script></head><body bgcolor=\"#fff\"><script nonce=\"fZXQGZTPs8Yvre2JH2vddg==\">(function(){var src=\\'/images/nav_logo229.png\\';var iesg=false;document.body.onload = function(){window.n && window.n();if (document.images){new Image().src=src;}\\nif (!iesg){document.f&&document.f.q.focus();document.gbqf&&document.gbqf.q.focus();}\\n}\\n})();</script><div id=\"mngb\"><div id=gbar><nobr><b class=gb1>검색</b> <a class=gb1 href=\"https://www.google.co.kr/imghp?hl=ko&tab=wi\">이미지</a> <a class=gb1 href=\"https://maps.google.co.kr/maps?hl=ko&tab=wl\">지도</a> <a class=gb1 href=\"https://play.google.com/?hl=ko&tab=w8\">Play</a> <a class=gb1 href=\"https://www.youtube.com/?gl=KR&tab=w1\">YouTube</a> <a class=gb1 href=\"https://news.google.com/?tab=wn\">뉴스</a> <a class=gb1 href=\"https://mail.google.com/mail/?tab=wm\">Gmail</a> <a class=gb1 href=\"https://drive.google.com/?tab=wo\">드라이브</a> <a class=gb1 style=\"text-decoration:none\" href=\"https://www.google.co.kr/intl/ko/about/products?tab=wh\"><u>더보기</u> &raquo;</a></nobr></div><div id=guser width=100%><nobr><span id=gbn class=gbi></span><span id=gbf class=gbf></span><span id=gbe></span><a href=\"http://www.google.co.kr/history/optout?hl=ko\" class=gb4>웹 기록</a> | <a  href=\"/preferences?hl=ko\" class=gb4>설정</a> | <a target=_top id=gb_70 href=\"https://accounts.google.com/ServiceLogin?hl=ko&passive=true&continue=https://www.google.co.kr/&ec=GAZAAQ\" class=gb4>로그인</a></nobr></div><div class=gbh style=left:0></div><div class=gbh style=right:0></div></div><center><br clear=\"all\" id=\"lgpd\"><div id=\"lga\"><img alt=\"Google\" height=\"92\" src=\"/images/branding/googlelogo/1x/googlelogo_white_background_color_272x92dp.png\" style=\"padding:28px 0 14px\" width=\"272\" id=\"hplogo\"><br><br></div><form action=\"/search\" name=\"f\"><table cellpadding=\"0\" cellspacing=\"0\"><tr valign=\"top\"><td width=\"25%\">&nbsp;</td><td align=\"center\" nowrap=\"\"><input name=\"ie\" value=\"EUC-KR\" type=\"hidden\"><input value=\"ko\" name=\"hl\" type=\"hidden\"><input name=\"source\" type=\"hidden\" value=\"hp\"><input name=\"biw\" type=\"hidden\"><input name=\"bih\" type=\"hidden\"><div class=\"ds\" style=\"height:32px;margin:4px 0\"><div style=\"position:relative;zoom:1\"><input class=\"lst tiah\" style=\"margin:0;padding:5px 8px 0 6px;vertical-align:top;color:#000;padding-right:38px\" autocomplete=\"off\" value=\"\" title=\"Google 검색\" maxlength=\"2048\" name=\"q\" size=\"57\"><img src=\"/textinputassistant/tia.png\" style=\"position:absolute;cursor:pointer;right:5px;top:4px;z-index:300\" data-script-url=\"/textinputassistant/11/ko_tia.js\" id=\"tsuid1\" alt=\"\" height=\"23\" width=\"27\"><script nonce=\"fZXQGZTPs8Yvre2JH2vddg==\">(function(){var id=\\'tsuid1\\';document.getElementById(id).onclick = function(){var s = document.createElement(\\'script\\');s.src = this.getAttribute(\\'data-script-url\\');(document.getElementById(\\'xjsc\\')||document.body).appendChild(s);};})();</script></div></div><br style=\"line-height:0\"><span class=\"ds\"><span class=\"lsbb\"><input class=\"lsb\" value=\"Google 검색\" name=\"btnG\" type=\"submit\"></span></span><span class=\"ds\"><span class=\"lsbb\"><input class=\"lsb\" id=\"tsuid2\" value=\"I’m Feeling Lucky\" name=\"btnI\" type=\"submit\"><script nonce=\"fZXQGZTPs8Yvre2JH2vddg==\">(function(){var id=\\'tsuid2\\';document.getElementById(id).onclick = function(){if (this.form.q.value){this.checked = 1;if (this.form.iflsig)this.form.iflsig.disabled = false;}\\nelse top.location=\\'/doodles/\\';};})();</script><input value=\"AINFCbYAAAAAYOvHVL5KHWEBbPLG706Px6fuyZLwuje0\" name=\"iflsig\" type=\"hidden\"></span></span></td><td class=\"fl sblc\" align=\"left\" nowrap=\"\" width=\"25%\"><a href=\"/advanced_search?hl=ko&amp;authuser=0\">고급검색</a></td></tr></table><input id=\"gbv\" name=\"gbv\" type=\"hidden\" value=\"1\"><script nonce=\"fZXQGZTPs8Yvre2JH2vddg==\">(function(){\\nvar a,b=\"1\";if(document&&document.getElementById)if(\"undefined\"!=typeof XMLHttpRequest)b=\"2\";else if(\"undefined\"!=typeof ActiveXObject){var c,d,e=[\"MSXML2.XMLHTTP.6.0\",\"MSXML2.XMLHTTP.3.0\",\"MSXML2.XMLHTTP\",\"Microsoft.XMLHTTP\"];for(c=0;d=e[c++];)try{new ActiveXObject(d),b=\"2\"}catch(h){}}a=b;if(\"2\"==a&&-1==location.search.indexOf(\"&gbv=2\")){var f=google.gbvu,g=document.getElementById(\"gbv\");g&&(g.value=a);f&&window.setTimeout(function(){location.href=f},0)};}).call(this);</script></form><div id=\"gac_scont\"></div><div style=\"font-size:83%;min-height:3.5em\"><br></div><span id=\"footer\"><div style=\"font-size:10pt\"><div style=\"margin:19px auto;text-align:center\" id=\"WqQANb\"><a href=\"/intl/ko/ads/\">광고 프로그램</a><a href=\"http://www.google.co.kr/intl/ko/services/\">비즈니스 솔루션</a><a href=\"/intl/ko/about.html\">Google 정보</a><a href=\"https://www.google.co.kr/setprefdomain?prefdom=US&amp;sig=K_ang6fIIAeJWW0NYX8E2EIygCGKI%3D\" id=\"fehl\">Google.com</a></div></div><p style=\"font-size:8pt;color:#70757a\">&copy; 2021 - <a href=\"/intl/ko/policies/privacy/\">개인정보처리방침</a> - <a href=\"/intl/ko/policies/terms/\">약관</a></p></span></center><script nonce=\"fZXQGZTPs8Yvre2JH2vddg==\">(function(){window.google.cdo={height:757,width:1440};(function(){\\nvar a=window.innerWidth,b=window.innerHeight;if(!a||!b){var c=window.document,d=\"CSS1Compat\"==c.compatMode?c.documentElement:c.body;a=d.clientWidth;b=d.clientHeight}a&&b&&(a!=google.cdo.width||b!=google.cdo.height)&&google.log(\"\",\"\",\"/client_204?&atyp=i&biw=\"+a+\"&bih=\"+b+\"&ei=\"+google.kEI);}).call(this);})();</script> <script nonce=\"fZXQGZTPs8Yvre2JH2vddg==\">(function(){google.xjs={ck:\\'\\',cs:\\'\\',excm:[],pml:false};})();</script>  <script nonce=\"fZXQGZTPs8Yvre2JH2vddg==\">(function(){var u=\\'/xjs/_/js/k\\\\x3dxjs.hp.en.oflC5nUklpY.O/m\\\\x3dsb_he,d/am\\\\x3dAHgCLA/d\\\\x3d1/ed\\\\x3d1/rs\\\\x3dACT90oGxvOzwZgpLyu8-AkKqgTBC3srzKg\\';\\nvar e=this||self,f=function(a){return a};var g;var l=function(a,b){this.g=b===h?a:\"\"};l.prototype.toString=function(){return this.g+\"\"};var h={};function m(){var a=u;google.lx=function(){n(a);google.lx=function(){}};google.bx||google.lx()}\\nfunction n(a){google.timers&&google.timers.load&&google.tick&&google.tick(\"load\",\"xjsls\");var b=document;var c=\"SCRIPT\";\"application/xhtml+xml\"===b.contentType&&(c=c.toLowerCase());c=b.createElement(c);if(void 0===g){b=null;var k=e.trustedTypes;if(k&&k.createPolicy){try{b=k.createPolicy(\"goog#html\",{createHTML:f,createScript:f,createScriptURL:f})}catch(p){e.console&&e.console.error(p.message)}g=b}else g=b}a=(b=g)?b.createScriptURL(a):a;a=new l(a,h);c.src=a instanceof l&&a.constructor===l?a.g:\"type_error:TrustedResourceUrl\";var d;a=(c.ownerDocument&&c.ownerDocument.defaultView||window).document;(d=(a=null===(d=a.querySelector)||void 0===d?void 0:d.call(a,\"script[nonce]\"))?a.nonce||a.getAttribute(\"nonce\")||\"\":\"\")&&c.setAttribute(\"nonce\",d);document.body.appendChild(c);google.psa=!0};setTimeout(function(){m()},0);})();(function(){window.google.xjsu=\\'/xjs/_/js/k\\\\x3dxjs.hp.en.oflC5nUklpY.O/m\\\\x3dsb_he,d/am\\\\x3dAHgCLA/d\\\\x3d1/ed\\\\x3d1/rs\\\\x3dACT90oGxvOzwZgpLyu8-AkKqgTBC3srzKg\\';})();function _DumpException(e){throw e;}\\nfunction _F_installCss(c){}\\n(function(){google.jl={attn:false,blt:\\'none\\',dw:false,emtn:0,ine:false,lls:\\'default\\',pdt:0,snet:true,ubm:false,uwp:true};})();(function(){var pmc=\\'{\\\\x22d\\\\x22:{},\\\\x22sb_he\\\\x22:{\\\\x22agen\\\\x22:true,\\\\x22cgen\\\\x22:true,\\\\x22client\\\\x22:\\\\x22heirloom-hp\\\\x22,\\\\x22dh\\\\x22:true,\\\\x22dhqt\\\\x22:true,\\\\x22ds\\\\x22:\\\\x22\\\\x22,\\\\x22ffql\\\\x22:\\\\x22ko\\\\x22,\\\\x22fl\\\\x22:true,\\\\x22host\\\\x22:\\\\x22google.co.kr\\\\x22,\\\\x22isbh\\\\x22:28,\\\\x22jsonp\\\\x22:true,\\\\x22msgs\\\\x22:{\\\\x22cibl\\\\x22:\\\\x22검색어 지우기\\\\x22,\\\\x22dym\\\\x22:\\\\x22이것을 찾으셨나요?\\\\x22,\\\\x22lcky\\\\x22:\\\\x22I’m Feeling Lucky\\\\x22,\\\\x22lml\\\\x22:\\\\x22자세히 알아보기\\\\x22,\\\\x22oskt\\\\x22:\\\\x22입력 도구\\\\x22,\\\\x22psrc\\\\x22:\\\\x22검색어가 \\\\\\\\u003Ca href\\\\x3d\\\\\\\\\\\\x22/history\\\\\\\\\\\\x22\\\\\\\\u003E웹 기록\\\\\\\\u003C/a\\\\\\\\u003E에서 삭제되었습니다.\\\\x22,\\\\x22psrl\\\\x22:\\\\x22삭제\\\\x22,\\\\x22sbit\\\\x22:\\\\x22이미지로 검색\\\\x22,\\\\x22srch\\\\x22:\\\\x22Google 검색\\\\x22},\\\\x22ovr\\\\x22:{},\\\\x22pq\\\\x22:\\\\x22\\\\x22,\\\\x22refpd\\\\x22:true,\\\\x22refspre\\\\x22:true,\\\\x22rfs\\\\x22:[],\\\\x22sbas\\\\x22:\\\\x220 3px 8px 0 rgba(0,0,0,0.2),0 0 0 1px rgba(0,0,0,0.08)\\\\x22,\\\\x22sbpl\\\\x22:16,\\\\x22sbpr\\\\x22:16,\\\\x22scd\\\\x22:10,\\\\x22stok\\\\x22:\\\\x22ghNxJ8CZgRwQwkNhgIlCQTfVDwo\\\\x22,\\\\x22uhde\\\\x22:false}}\\';google.pmc=JSON.parse(pmc);})();</script>        </body></html>'"
      ]
     },
     "execution_count": 20,
     "metadata": {},
     "output_type": "execute_result"
    }
   ],
   "source": [
    "html"
   ]
  },
  {
   "cell_type": "code",
   "execution_count": 21,
   "id": "45cc43fe",
   "metadata": {},
   "outputs": [],
   "source": [
    "from bs4 import BeautifulSoup"
   ]
  },
  {
   "cell_type": "code",
   "execution_count": 27,
   "id": "b526a254",
   "metadata": {},
   "outputs": [
    {
     "name": "stdout",
     "output_type": "stream",
     "text": [
      "Overwriting HTML_examp2.html\n"
     ]
    }
   ],
   "source": [
    "%%writefile HTML_examp2.html\n",
    "<html><body><div><span>\n",
    "<a href=http://www.naver.com>naver</a>\n",
    "<a href=https://www.google.com>google</a>\n",
    "<a href=http://www.daum.net/>daum</a>\n",
    "</span></div></body></html>"
   ]
  },
  {
   "cell_type": "code",
   "execution_count": 22,
   "id": "3a1c3851",
   "metadata": {},
   "outputs": [
    {
     "data": {
      "text/plain": [
       "<html><body><div><span> <a href=\"http://www.naver.com\">naver</a> <a href=\"https://www.google.com\">google</a> <a href=\"http://www.daum.net/\">daum</a> </span></div></body></html>"
      ]
     },
     "execution_count": 22,
     "metadata": {},
     "output_type": "execute_result"
    }
   ],
   "source": [
    "html = \"\"\"<html><body><div><span>\\\n",
    " <a href=http://www.naver.com>naver</a>\\\n",
    " <a href=https://www.google.com>google</a>\\\n",
    " <a href=http://www.daum.net/>daum</a>\\\n",
    " </span></div></body></html>\"\"\"\n",
    "soup = BeautifulSoup(html,'lxml') #해석도구는 여러개가 있음 lxml은 비교적 빠르고 적당히 엄격함\n",
    "soup"
   ]
  },
  {
   "cell_type": "code",
   "execution_count": 28,
   "id": "26389e9d",
   "metadata": {},
   "outputs": [
    {
     "name": "stdout",
     "output_type": "stream",
     "text": [
      "<bound method Tag.prettify of <html><body><div><span> <a href=\"http://www.naver.com\">naver</a> <a href=\"https://www.google.com\">google</a> <a href=\"http://www.daum.net/\">daum</a> </span></div></body></html>>\n"
     ]
    }
   ],
   "source": [
    "print(soup.prettify)"
   ]
  },
  {
   "cell_type": "code",
   "execution_count": 29,
   "id": "29f06a01",
   "metadata": {},
   "outputs": [
    {
     "data": {
      "text/plain": [
       "<a href=\"http://www.naver.com\">naver</a>"
      ]
     },
     "execution_count": 29,
     "metadata": {},
     "output_type": "execute_result"
    }
   ],
   "source": [
    "soup.find('a') #a에 해당하는 태그만 찾기"
   ]
  },
  {
   "cell_type": "code",
   "execution_count": 34,
   "id": "a44ebc37",
   "metadata": {},
   "outputs": [
    {
     "data": {
      "text/plain": [
       "bs4.element.Tag"
      ]
     },
     "execution_count": 34,
     "metadata": {},
     "output_type": "execute_result"
    }
   ],
   "source": [
    " type(soup.find('a')) #요소중 태그를 가져옴."
   ]
  },
  {
   "cell_type": "code",
   "execution_count": 30,
   "id": "8a200c4f",
   "metadata": {},
   "outputs": [
    {
     "data": {
      "text/plain": [
       "'naver'"
      ]
     },
     "execution_count": 30,
     "metadata": {},
     "output_type": "execute_result"
    }
   ],
   "source": [
    "soup.find('a').get_text() #href사라지고 출력인 naver만 가져옴 text라서 type은 str"
   ]
  },
  {
   "cell_type": "code",
   "execution_count": 32,
   "id": "67f7edbe",
   "metadata": {},
   "outputs": [
    {
     "data": {
      "text/plain": [
       "[<a href=\"http://www.naver.com\">naver</a>,\n",
       " <a href=\"https://www.google.com\">google</a>,\n",
       " <a href=\"http://www.daum.net/\">daum</a>]"
      ]
     },
     "execution_count": 32,
     "metadata": {},
     "output_type": "execute_result"
    }
   ],
   "source": [
    "soup.find_all('a') #resultset으로 표현"
   ]
  },
  {
   "cell_type": "code",
   "execution_count": 33,
   "id": "7f1c7934",
   "metadata": {},
   "outputs": [
    {
     "name": "stdout",
     "output_type": "stream",
     "text": [
      "naver\n",
      "google\n",
      "daum\n"
     ]
    }
   ],
   "source": [
    "site_names = soup.find_all('a')\n",
    "for site_name in site_names:\n",
    "    print(site_name.get_text())"
   ]
  },
  {
   "cell_type": "code",
   "execution_count": 41,
   "id": "337c53aa",
   "metadata": {},
   "outputs": [],
   "source": [
    "from bs4 import BeautifulSoup\n",
    "\n",
    "html2 = \"\"\"\n",
    " <html>\n",
    " <head>\n",
    " <title>작품과 작가 모음</title>\n",
    " </head>\n",
    " <body>\n",
    " <h1>책 정보</h1>\n",
    " <p id=\"book_title\">토지</p>\n",
    " <p id=\"author\">박경리</p>\n",
    " \n",
    " <p id=\"book_title\">태백산맥</p>\n",
    " <p id=\"author\">조정래</p>\n",
    " <p id=\"book_title\">감옥으로부터의 사색</p>\n",
    " <p id=\"author\">신영복</p>\n",
    " </body>\n",
    " </html>\"\"\"\n",
    "\n",
    "soup2 = BeautifulSoup(html2, 'lxml')"
   ]
  },
  {
   "cell_type": "code",
   "execution_count": 42,
   "id": "ee56e0cd",
   "metadata": {},
   "outputs": [
    {
     "data": {
      "text/plain": [
       "<title>작품과 작가 모음</title>"
      ]
     },
     "execution_count": 42,
     "metadata": {},
     "output_type": "execute_result"
    }
   ],
   "source": [
    "soup2.title"
   ]
  },
  {
   "cell_type": "code",
   "execution_count": 43,
   "id": "cc69feed",
   "metadata": {},
   "outputs": [
    {
     "data": {
      "text/plain": [
       "<body>\n",
       "<h1>책 정보</h1>\n",
       "<p id=\"book_title\">토지</p>\n",
       "<p id=\"author\">박경리</p>\n",
       "<p id=\"book_title\">태백산맥</p>\n",
       "<p id=\"author\">조정래</p>\n",
       "<p id=\"book_title\">감옥으로부터의 사색</p>\n",
       "<p id=\"author\">신영복</p>\n",
       "</body>"
      ]
     },
     "execution_count": 43,
     "metadata": {},
     "output_type": "execute_result"
    }
   ],
   "source": [
    "soup2.body"
   ]
  },
  {
   "cell_type": "code",
   "execution_count": 44,
   "id": "46f0de54",
   "metadata": {},
   "outputs": [
    {
     "data": {
      "text/plain": [
       "<h1>책 정보</h1>"
      ]
     },
     "execution_count": 44,
     "metadata": {},
     "output_type": "execute_result"
    }
   ],
   "source": [
    "soup2.h1"
   ]
  },
  {
   "cell_type": "code",
   "execution_count": 45,
   "id": "87ae0fa9",
   "metadata": {},
   "outputs": [
    {
     "data": {
      "text/plain": [
       "<p id=\"book_title\">토지</p>"
      ]
     },
     "execution_count": 45,
     "metadata": {},
     "output_type": "execute_result"
    }
   ],
   "source": [
    "soup2.find('p')"
   ]
  },
  {
   "cell_type": "code",
   "execution_count": 46,
   "id": "a393bedb",
   "metadata": {},
   "outputs": [
    {
     "data": {
      "text/plain": [
       "[<p id=\"book_title\">토지</p>,\n",
       " <p id=\"author\">박경리</p>,\n",
       " <p id=\"book_title\">태백산맥</p>,\n",
       " <p id=\"author\">조정래</p>,\n",
       " <p id=\"book_title\">감옥으로부터의 사색</p>,\n",
       " <p id=\"author\">신영복</p>]"
      ]
     },
     "execution_count": 46,
     "metadata": {},
     "output_type": "execute_result"
    }
   ],
   "source": [
    "soup2.find_all('p')"
   ]
  },
  {
   "cell_type": "code",
   "execution_count": 48,
   "id": "b82c857b",
   "metadata": {},
   "outputs": [
    {
     "data": {
      "text/plain": [
       "bs4.element.ResultSet"
      ]
     },
     "execution_count": 48,
     "metadata": {},
     "output_type": "execute_result"
    }
   ],
   "source": [
    "type(soup2.find_all('p')) #결과집합?"
   ]
  },
  {
   "cell_type": "code",
   "execution_count": 50,
   "id": "9a10904a",
   "metadata": {},
   "outputs": [
    {
     "data": {
      "text/plain": [
       "<p id=\"book_title\">토지</p>"
      ]
     },
     "execution_count": 50,
     "metadata": {},
     "output_type": "execute_result"
    }
   ],
   "source": [
    "soup2.find('p', {'id': 'book_title'}) #튜플형태로 id(속성)를 정해서 해당 id만 불러올 수 도 있다. id는 중복가능"
   ]
  },
  {
   "cell_type": "code",
   "execution_count": 51,
   "id": "f3505505",
   "metadata": {},
   "outputs": [
    {
     "data": {
      "text/plain": [
       "<p id=\"author\">박경리</p>"
      ]
     },
     "execution_count": 51,
     "metadata": {},
     "output_type": "execute_result"
    }
   ],
   "source": [
    "soup2.find('p', {'id': 'author'})"
   ]
  },
  {
   "cell_type": "code",
   "execution_count": 55,
   "id": "5fae1194",
   "metadata": {},
   "outputs": [
    {
     "data": {
      "text/plain": [
       "[<p id=\"book_title\">토지</p>,\n",
       " <p id=\"book_title\">태백산맥</p>,\n",
       " <p id=\"book_title\">감옥으로부터의 사색</p>]"
      ]
     },
     "execution_count": 55,
     "metadata": {},
     "output_type": "execute_result"
    }
   ],
   "source": [
    "soup2.find_all('p', {'id': 'book_title'})"
   ]
  },
  {
   "cell_type": "code",
   "execution_count": 57,
   "id": "d10e47fc",
   "metadata": {},
   "outputs": [
    {
     "ename": "AttributeError",
     "evalue": "ResultSet object has no attribute 'get_text'. You're probably treating a list of elements like a single element. Did you call find_all() when you meant to call find()?",
     "output_type": "error",
     "traceback": [
      "\u001b[1;31m---------------------------------------------------------------------------\u001b[0m",
      "\u001b[1;31mAttributeError\u001b[0m                            Traceback (most recent call last)",
      "\u001b[1;32m<ipython-input-57-a3c20e5f8118>\u001b[0m in \u001b[0;36m<module>\u001b[1;34m\u001b[0m\n\u001b[1;32m----> 1\u001b[1;33m \u001b[0msoup2\u001b[0m\u001b[1;33m.\u001b[0m\u001b[0mfind_all\u001b[0m\u001b[1;33m(\u001b[0m\u001b[1;34m'p'\u001b[0m\u001b[1;33m,\u001b[0m \u001b[1;33m{\u001b[0m\u001b[1;34m'id'\u001b[0m\u001b[1;33m:\u001b[0m \u001b[1;34m'author'\u001b[0m\u001b[1;33m}\u001b[0m\u001b[1;33m)\u001b[0m\u001b[1;33m.\u001b[0m\u001b[0mget_text\u001b[0m\u001b[1;33m(\u001b[0m\u001b[1;33m)\u001b[0m\u001b[1;33m\u001b[0m\u001b[1;33m\u001b[0m\u001b[0m\n\u001b[0m",
      "\u001b[1;32mC:\\ProgramData\\Anaconda3\\lib\\site-packages\\bs4\\element.py\u001b[0m in \u001b[0;36m__getattr__\u001b[1;34m(self, key)\u001b[0m\n\u001b[0;32m   2171\u001b[0m     \u001b[1;32mdef\u001b[0m \u001b[0m__getattr__\u001b[0m\u001b[1;33m(\u001b[0m\u001b[0mself\u001b[0m\u001b[1;33m,\u001b[0m \u001b[0mkey\u001b[0m\u001b[1;33m)\u001b[0m\u001b[1;33m:\u001b[0m\u001b[1;33m\u001b[0m\u001b[1;33m\u001b[0m\u001b[0m\n\u001b[0;32m   2172\u001b[0m         \u001b[1;34m\"\"\"Raise a helpful exception to explain a common code fix.\"\"\"\u001b[0m\u001b[1;33m\u001b[0m\u001b[1;33m\u001b[0m\u001b[0m\n\u001b[1;32m-> 2173\u001b[1;33m         raise AttributeError(\n\u001b[0m\u001b[0;32m   2174\u001b[0m             \u001b[1;34m\"ResultSet object has no attribute '%s'. You're probably treating a list of elements like a single element. Did you call find_all() when you meant to call find()?\"\u001b[0m \u001b[1;33m%\u001b[0m \u001b[0mkey\u001b[0m\u001b[1;33m\u001b[0m\u001b[1;33m\u001b[0m\u001b[0m\n\u001b[0;32m   2175\u001b[0m         )\n",
      "\u001b[1;31mAttributeError\u001b[0m: ResultSet object has no attribute 'get_text'. You're probably treating a list of elements like a single element. Did you call find_all() when you meant to call find()?"
     ]
    }
   ],
   "source": [
    "soup2.find_all('p', {'id': 'author'})"
   ]
  },
  {
   "cell_type": "code",
   "execution_count": 60,
   "id": "e7ad198f",
   "metadata": {},
   "outputs": [],
   "source": [
    "from bs4 import BeautifulSoup\n",
    "\n",
    "soup2 = BeautifulSoup(html2, 'lxml')\n",
    "book_titles = soup2.find_all('p', {'id': 'book_title'})"
   ]
  },
  {
   "cell_type": "code",
   "execution_count": 61,
   "id": "4cbb65a2",
   "metadata": {},
   "outputs": [],
   "source": [
    "authors = soup2.find_all('p', {'id': 'author'})"
   ]
  },
  {
   "cell_type": "code",
   "execution_count": 64,
   "id": "77373b32",
   "metadata": {},
   "outputs": [
    {
     "name": "stdout",
     "output_type": "stream",
     "text": [
      "토지 : 박경리\n",
      "태백산맥 : 조정래\n",
      "감옥으로부터의 사색 : 신영복\n"
     ]
    }
   ],
   "source": [
    "for book_title, author in zip(book_titles, authors):\n",
    "    print(book_title.get_text(), ':', author.get_text()) #print에서 +를 쓰면 sep = ''으로 빈공간이 없어짐."
   ]
  },
  {
   "cell_type": "code",
   "execution_count": 65,
   "id": "2b932f62",
   "metadata": {},
   "outputs": [
    {
     "data": {
      "text/plain": [
       "[<h1>책 정보</h1>]"
      ]
     },
     "execution_count": 65,
     "metadata": {},
     "output_type": "execute_result"
    }
   ],
   "source": [
    "soup2.select('body > h1') #스페이스는 밑에 있다는 뜻임 경로로따지면 \\와 같은 의미 모든 자손 가능 꺽새표시는 바로 밑에있는 태그만 가져옴"
   ]
  },
  {
   "cell_type": "code",
   "execution_count": 66,
   "id": "58970136",
   "metadata": {},
   "outputs": [
    {
     "data": {
      "text/plain": [
       "[<p id=\"book_title\">토지</p>,\n",
       " <p id=\"author\">박경리</p>,\n",
       " <p id=\"book_title\">태백산맥</p>,\n",
       " <p id=\"author\">조정래</p>,\n",
       " <p id=\"book_title\">감옥으로부터의 사색</p>,\n",
       " <p id=\"author\">신영복</p>]"
      ]
     },
     "execution_count": 66,
     "metadata": {},
     "output_type": "execute_result"
    }
   ],
   "source": [
    "soup2.select('body p')"
   ]
  },
  {
   "cell_type": "code",
   "execution_count": 67,
   "id": "86601ea3",
   "metadata": {},
   "outputs": [
    {
     "data": {
      "text/plain": [
       "[<p id=\"book_title\">토지</p>,\n",
       " <p id=\"author\">박경리</p>,\n",
       " <p id=\"book_title\">태백산맥</p>,\n",
       " <p id=\"author\">조정래</p>,\n",
       " <p id=\"book_title\">감옥으로부터의 사색</p>,\n",
       " <p id=\"author\">신영복</p>]"
      ]
     },
     "execution_count": 67,
     "metadata": {},
     "output_type": "execute_result"
    }
   ],
   "source": [
    "soup2.select('body > p')"
   ]
  },
  {
   "cell_type": "code",
   "execution_count": 68,
   "id": "b008a268",
   "metadata": {},
   "outputs": [
    {
     "data": {
      "text/plain": [
       "[<p id=\"book_title\">토지</p>,\n",
       " <p id=\"book_title\">태백산맥</p>,\n",
       " <p id=\"book_title\">감옥으로부터의 사색</p>]"
      ]
     },
     "execution_count": 68,
     "metadata": {},
     "output_type": "execute_result"
    }
   ],
   "source": [
    "soup2.select('p#book_title') # id를 나타낼때는 #뒤에 아이디를 적으면 됌 해당태그중 아이디에 해당하는 것만 가져옴"
   ]
  },
  {
   "cell_type": "code",
   "execution_count": 69,
   "id": "39bbf9d5",
   "metadata": {},
   "outputs": [
    {
     "data": {
      "text/plain": [
       "[<p id=\"author\">박경리</p>, <p id=\"author\">조정래</p>, <p id=\"author\">신영복</p>]"
      ]
     },
     "execution_count": 69,
     "metadata": {},
     "output_type": "execute_result"
    }
   ],
   "source": [
    "soup2.select('p#author')"
   ]
  },
  {
   "cell_type": "code",
   "execution_count": 70,
   "id": "d1ab308c",
   "metadata": {},
   "outputs": [
    {
     "name": "stdout",
     "output_type": "stream",
     "text": [
      "Writing HTML_example_my_site.html\n"
     ]
    }
   ],
   "source": [
    "%%writefile HTML_example_my_site.html\n",
    "<!doctype html>\n",
    "<html>\n",
    "<head>\n",
    "<meta charset=\"utf-8\">\n",
    "<title>사이트 모음</title>\n",
    "</head>\n",
    "<body>\n",
    "<p id=\"title\"><b>자주 가는 사이트 모음</b></p>\n",
    "<p id=\"contents\">이곳은 자주 가는 사이트를 모아둔 곳입니다.</p>\n",
    "<a href=\"http://www.naver.com\" class=\"portal\" id=\"naver\">네이버</a> <br>\n",
    "<a href=\"https://www.google.com\" class=\"search\" id=\"google\">구글</a> <br>\n",
    "<a href=\"http://www.daum.net\" class=\"portal\" id=\"danum\">다음</a> <br>\n",
    "<a href=\"http://www.nl.go.kr\" class=\"government\" id=\"nl\">국립중앙도서관</a>\n",
    "</body>\n",
    "</html>"
   ]
  },
  {
   "cell_type": "code",
   "execution_count": 71,
   "id": "ce5bacf9",
   "metadata": {},
   "outputs": [
    {
     "data": {
      "text/plain": [
       "<function TextIOWrapper.close()>"
      ]
     },
     "execution_count": 71,
     "metadata": {},
     "output_type": "execute_result"
    }
   ],
   "source": [
    "f = open('HTML_example_my_site.html', encoding='utf-8') #with open구문 대신\n",
    "\n",
    "html3 = f.read()\n",
    "f.close"
   ]
  },
  {
   "cell_type": "code",
   "execution_count": 72,
   "id": "b7506f27",
   "metadata": {},
   "outputs": [
    {
     "data": {
      "text/plain": [
       "[<a class=\"portal\" href=\"http://www.naver.com\" id=\"naver\">네이버</a>,\n",
       " <a class=\"search\" href=\"https://www.google.com\" id=\"google\">구글</a>,\n",
       " <a class=\"portal\" href=\"http://www.daum.net\" id=\"danum\">다음</a>,\n",
       " <a class=\"government\" href=\"http://www.nl.go.kr\" id=\"nl\">국립중앙도서관</a>]"
      ]
     },
     "execution_count": 72,
     "metadata": {},
     "output_type": "execute_result"
    }
   ],
   "source": [
    "soup3 = BeautifulSoup(html3, 'lxml')\n",
    "soup3.select('a')"
   ]
  },
  {
   "cell_type": "code",
   "execution_count": 74,
   "id": "db4f0713",
   "metadata": {},
   "outputs": [
    {
     "data": {
      "text/plain": [
       "[<a class=\"portal\" href=\"http://www.naver.com\" id=\"naver\">네이버</a>,\n",
       " <a class=\"portal\" href=\"http://www.daum.net\" id=\"danum\">다음</a>]"
      ]
     },
     "execution_count": 74,
     "metadata": {},
     "output_type": "execute_result"
    }
   ],
   "source": [
    "soup3.select('a.portal')"
   ]
  },
  {
   "cell_type": "code",
   "execution_count": 75,
   "id": "6055da30",
   "metadata": {},
   "outputs": [
    {
     "data": {
      "text/plain": [
       "[<a class=\"portal\" href=\"http://www.naver.com\" id=\"naver\">네이버</a>,\n",
       " <a class=\"search\" href=\"https://www.google.com\" id=\"google\">구글</a>,\n",
       " <a class=\"portal\" href=\"http://www.daum.net\" id=\"danum\">다음</a>,\n",
       " <a class=\"government\" href=\"http://www.nl.go.kr\" id=\"nl\">국립중앙도서관</a>]"
      ]
     },
     "execution_count": 75,
     "metadata": {},
     "output_type": "execute_result"
    }
   ],
   "source": [
    "soup3.select('html a')"
   ]
  },
  {
   "cell_type": "code",
   "execution_count": 77,
   "id": "a59efb7a",
   "metadata": {},
   "outputs": [
    {
     "data": {
      "text/plain": [
       "[<a class=\"portal\" href=\"http://www.naver.com\" id=\"naver\">네이버</a>,\n",
       " <a class=\"search\" href=\"https://www.google.com\" id=\"google\">구글</a>,\n",
       " <a class=\"portal\" href=\"http://www.daum.net\" id=\"danum\">다음</a>,\n",
       " <a class=\"government\" href=\"http://www.nl.go.kr\" id=\"nl\">국립중앙도서관</a>]"
      ]
     },
     "execution_count": 77,
     "metadata": {},
     "output_type": "execute_result"
    }
   ],
   "source": [
    "soup3.select('body a')"
   ]
  },
  {
   "cell_type": "code",
   "execution_count": 78,
   "id": "80842573",
   "metadata": {},
   "outputs": [
    {
     "data": {
      "text/plain": [
       "[<a class=\"portal\" href=\"http://www.naver.com\" id=\"naver\">네이버</a>,\n",
       " <a class=\"search\" href=\"https://www.google.com\" id=\"google\">구글</a>,\n",
       " <a class=\"portal\" href=\"http://www.daum.net\" id=\"danum\">다음</a>,\n",
       " <a class=\"government\" href=\"http://www.nl.go.kr\" id=\"nl\">국립중앙도서관</a>]"
      ]
     },
     "execution_count": 78,
     "metadata": {},
     "output_type": "execute_result"
    }
   ],
   "source": [
    "soup3.select('html > body a')"
   ]
  },
  {
   "cell_type": "code",
   "execution_count": 79,
   "id": "d08b1f59",
   "metadata": {},
   "outputs": [
    {
     "data": {
      "text/plain": [
       "[<a class=\"portal\" href=\"http://www.naver.com\" id=\"naver\">네이버</a>,\n",
       " <a class=\"search\" href=\"https://www.google.com\" id=\"google\">구글</a>,\n",
       " <a class=\"portal\" href=\"http://www.daum.net\" id=\"danum\">다음</a>,\n",
       " <a class=\"government\" href=\"http://www.nl.go.kr\" id=\"nl\">국립중앙도서관</a>]"
      ]
     },
     "execution_count": 79,
     "metadata": {},
     "output_type": "execute_result"
    }
   ],
   "source": [
    "soup3.select('a')"
   ]
  },
  {
   "cell_type": "code",
   "execution_count": 81,
   "id": "42083474",
   "metadata": {},
   "outputs": [
    {
     "data": {
      "text/plain": [
       "[<a class=\"portal\" href=\"http://www.naver.com\" id=\"naver\">네이버</a>]"
      ]
     },
     "execution_count": 81,
     "metadata": {},
     "output_type": "execute_result"
    }
   ],
   "source": [
    "soup3.select('a#naver')"
   ]
  },
  {
   "cell_type": "code",
   "execution_count": 83,
   "id": "d5f32d2d",
   "metadata": {},
   "outputs": [
    {
     "data": {
      "text/plain": [
       "[<a class=\"portal\" href=\"http://www.naver.com\" id=\"naver\">네이버</a>,\n",
       " <a class=\"search\" href=\"https://www.google.com\" id=\"google\">구글</a>,\n",
       " <a class=\"portal\" href=\"http://www.daum.net\" id=\"danum\">다음</a>,\n",
       " <a class=\"government\" href=\"http://www.nl.go.kr\" id=\"nl\">국립중앙도서관</a>]"
      ]
     },
     "execution_count": 83,
     "metadata": {},
     "output_type": "execute_result"
    }
   ],
   "source": [
    "#href 가져오기\n",
    "soup3.select('a[href]')"
   ]
  },
  {
   "cell_type": "markdown",
   "id": "848e928e",
   "metadata": {},
   "source": [
    "# 줄바꿈 하기!"
   ]
  },
  {
   "cell_type": "code",
   "execution_count": 84,
   "id": "36caee97",
   "metadata": {},
   "outputs": [
    {
     "name": "stdout",
     "output_type": "stream",
     "text": [
      "Writing HTML_example_constitution.html\n"
     ]
    }
   ],
   "source": [
    "%%writefile HTML_example_constitution.html\n",
    "<!doctype html>\n",
    " <html>\n",
    " <head>\n",
    " <meta charset=\"utf-8\">\n",
    " <title>줄 바꿈 테스트 예제</title>\n",
    " </head>\n",
    " <body>\n",
    " <p id=\"title\"><b>대한민국헌법</b></p>\n",
    " <p id=\"content\">제1조 <br/>①대한민국은 민주공화국이다.<br/>②대한민국의 주권은 국민에게 있고, \n",
    " 모든 권력은 국민으로부터 나온다.</p>\n",
    " <p id=\"content\">제2조 <br/>①대한민국의 국민이 되는 요건은 법률로 정한다.<br/>②국가는 법률이 \n",
    " 정하는 바에 의하여 재외국민을 보호할 의무를 진다.</p>\n",
    " </body>\n",
    "</html>\n"
   ]
  },
  {
   "cell_type": "code",
   "execution_count": 100,
   "id": "a54e758f",
   "metadata": {},
   "outputs": [
    {
     "data": {
      "text/plain": [
       "<p id=\"content\">제1조 <br/>①대한민국은 민주공화국이다.<br/>②대한민국의 주권은 국민에게 있고, \n",
       " 모든 권력은 국민으로부터 나온다.</p>"
      ]
     },
     "execution_count": 100,
     "metadata": {},
     "output_type": "execute_result"
    }
   ],
   "source": [
    "html1 = \"\"\"\n",
    "<p id=\"content\">제1조 <br/>①대한민국은 민주공화국이다.<br/>②대한민국의 주권은 국민에게 있고, \n",
    " 모든 권력은 국민으로부터 나온다.</p>\"\"\"\n",
    "\n",
    "soup1 = BeautifulSoup(html1, 'lxml')\n",
    "\n",
    "content1 = soup1.find('p', {'id' : 'content'})\n",
    "content1"
   ]
  },
  {
   "cell_type": "code",
   "execution_count": 101,
   "id": "d4d5d2dc",
   "metadata": {},
   "outputs": [
    {
     "data": {
      "text/plain": [
       "<br/>"
      ]
     },
     "execution_count": 101,
     "metadata": {},
     "output_type": "execute_result"
    }
   ],
   "source": [
    "br_content = content1.find('br')\n",
    "\n",
    "br_content.replace_with(\"\\n\")"
   ]
  },
  {
   "cell_type": "code",
   "execution_count": 102,
   "id": "eace2aa1",
   "metadata": {},
   "outputs": [
    {
     "data": {
      "text/plain": [
       "<p id=\"content\">제1조 \n",
       "①대한민국은 민주공화국이다.<br/>②대한민국의 주권은 국민에게 있고, \n",
       " 모든 권력은 국민으로부터 나온다.</p>"
      ]
     },
     "execution_count": 102,
     "metadata": {},
     "output_type": "execute_result"
    }
   ],
   "source": [
    "content1"
   ]
  },
  {
   "cell_type": "code",
   "execution_count": 107,
   "id": "33aef67f",
   "metadata": {},
   "outputs": [
    {
     "ename": "NameError",
     "evalue": "name 'br_contents' is not defined",
     "output_type": "error",
     "traceback": [
      "\u001b[1;31m---------------------------------------------------------------------------\u001b[0m",
      "\u001b[1;31mNameError\u001b[0m                                 Traceback (most recent call last)",
      "\u001b[1;32m<ipython-input-107-3c138e341618>\u001b[0m in \u001b[0;36m<module>\u001b[1;34m\u001b[0m\n\u001b[0;32m      1\u001b[0m \u001b[0msoup2\u001b[0m \u001b[1;33m=\u001b[0m \u001b[0mBeautifulSoup\u001b[0m\u001b[1;33m(\u001b[0m\u001b[0mhtml1\u001b[0m\u001b[1;33m,\u001b[0m \u001b[1;34m'lxml'\u001b[0m\u001b[1;33m)\u001b[0m\u001b[1;33m\u001b[0m\u001b[1;33m\u001b[0m\u001b[0m\n\u001b[0;32m      2\u001b[0m \u001b[0mcontent2\u001b[0m \u001b[1;33m=\u001b[0m \u001b[0msoup2\u001b[0m\u001b[1;33m.\u001b[0m\u001b[0mfind\u001b[0m\u001b[1;33m(\u001b[0m\u001b[1;34m'p'\u001b[0m\u001b[1;33m,\u001b[0m \u001b[1;33m{\u001b[0m\u001b[1;34m'id'\u001b[0m\u001b[1;33m:\u001b[0m\u001b[1;34m'content'\u001b[0m\u001b[1;33m}\u001b[0m\u001b[1;33m)\u001b[0m\u001b[1;33m\u001b[0m\u001b[1;33m\u001b[0m\u001b[0m\n\u001b[1;32m----> 3\u001b[1;33m \u001b[0mbr_contents\u001b[0m\u001b[1;33m.\u001b[0m\u001b[0mfind_all\u001b[0m\u001b[1;33m(\u001b[0m\u001b[1;34m'br'\u001b[0m\u001b[1;33m)\u001b[0m\u001b[1;33m\u001b[0m\u001b[1;33m\u001b[0m\u001b[0m\n\u001b[0m\u001b[0;32m      4\u001b[0m \u001b[0mcontent2\u001b[0m\u001b[1;33m\u001b[0m\u001b[1;33m\u001b[0m\u001b[0m\n",
      "\u001b[1;31mNameError\u001b[0m: name 'br_contents' is not defined"
     ]
    }
   ],
   "source": [
    "soup2 = BeautifulSoup(html1, 'lxml')\n",
    "content2 = soup2.find('p', {'id':'content'})\n"
   ]
  },
  {
   "cell_type": "code",
   "execution_count": 116,
   "id": "766c4717",
   "metadata": {},
   "outputs": [
    {
     "data": {
      "text/plain": [
       "[<br/>]"
      ]
     },
     "execution_count": 116,
     "metadata": {},
     "output_type": "execute_result"
    }
   ],
   "source": [
    "br_contents = content2.find_all('br')\n",
    "br_contents"
   ]
  },
  {
   "cell_type": "code",
   "execution_count": 117,
   "id": "5caa346d",
   "metadata": {},
   "outputs": [
    {
     "data": {
      "text/plain": [
       "<p id=\"content\">제1조 \n",
       "①대한민국은 민주공화국이다.\n",
       "②대한민국의 주권은 국민에게 있고, \n",
       " 모든 권력은 국민으로부터 나온다.</p>"
      ]
     },
     "execution_count": 117,
     "metadata": {},
     "output_type": "execute_result"
    }
   ],
   "source": [
    "for br_content in br_contents:\n",
    "    br_content.replace_with('\\n')\n",
    "content2"
   ]
  },
  {
   "cell_type": "code",
   "execution_count": 120,
   "id": "ee6247da",
   "metadata": {},
   "outputs": [],
   "source": [
    "def replace_newline(soup_html):\n",
    "    br_contents = soup_html.find_all('br')\n",
    "    \n",
    "    for br_content in br_contents:\n",
    "        br_content.replace_with('\\n')\n",
    "    return soup_html"
   ]
  },
  {
   "cell_type": "code",
   "execution_count": 121,
   "id": "5dada5d4",
   "metadata": {},
   "outputs": [
    {
     "name": "stdout",
     "output_type": "stream",
     "text": [
      "제1조 \n",
      "①대한민국은 민주공화국이다.\n",
      "②대한민국의 주권은 국민에게 있고, \n",
      " 모든 권력은 국민으로부터 나온다.\n"
     ]
    }
   ],
   "source": [
    "soup2 = BeautifulSoup(html1, 'lxml')\n",
    "content2 = soup2.find('p', {'id':'content'})\n",
    "content3 = replace_newline(content2)\n",
    "print(content3.get_text())"
   ]
  },
  {
   "cell_type": "markdown",
   "id": "8caf6f34",
   "metadata": {},
   "source": [
    "* 순위데이터 가져오기"
   ]
  },
  {
   "cell_type": "code",
   "execution_count": 125,
   "id": "0a9394a6",
   "metadata": {},
   "outputs": [],
   "source": [
    "import requests\n",
    "from bs4 import BeautifulSoup"
   ]
  },
  {
   "cell_type": "code",
   "execution_count": 126,
   "id": "cf3e74b3",
   "metadata": {},
   "outputs": [],
   "source": [
    "url = \"https://alexa.com/topsites/countries/KR\""
   ]
  },
  {
   "cell_type": "code",
   "execution_count": 136,
   "id": "80b631c7",
   "metadata": {},
   "outputs": [],
   "source": [
    "html_website_ranking = requests.get(url).text\n",
    "soup_website_ranking = BeautifulSoup(html_website_ranking, 'lxml') #파싱하기 lxml #문법에 맞게 가지고 있다.\n",
    "\n",
    "website_ranking = soup_website_ranking.select('p > a') #꺽새가 없으면 이상한게 많이 나와서 왠만해서 패턴을 분석하고 태그 패턴으로 검색하길 추천"
   ]
  },
  {
   "cell_type": "code",
   "execution_count": 137,
   "id": "f46600b7",
   "metadata": {},
   "outputs": [
    {
     "data": {
      "text/plain": [
       "[<a href=\"/siteinfo/google.com\">Google.com</a>,\n",
       " <a href=\"/siteinfo/naver.com\">Naver.com</a>,\n",
       " <a href=\"/siteinfo/youtube.com\">Youtube.com</a>,\n",
       " <a href=\"/siteinfo/daum.net\">Daum.net</a>,\n",
       " <a href=\"/siteinfo/tistory.com\">Tistory.com</a>,\n",
       " <a href=\"/siteinfo/kakao.com\">Kakao.com</a>]"
      ]
     },
     "execution_count": 137,
     "metadata": {},
     "output_type": "execute_result"
    }
   ],
   "source": [
    "website_ranking[:6]"
   ]
  },
  {
   "cell_type": "code",
   "execution_count": 138,
   "id": "c65bd5b8",
   "metadata": {
    "scrolled": true
   },
   "outputs": [
    {
     "data": {
      "text/plain": [
       "'Google.com'"
      ]
     },
     "execution_count": 138,
     "metadata": {},
     "output_type": "execute_result"
    }
   ],
   "source": [
    "website_ranking[0].get_text()"
   ]
  },
  {
   "cell_type": "code",
   "execution_count": 144,
   "id": "84fd3a43",
   "metadata": {},
   "outputs": [],
   "source": [
    "website_ranking_address = [website_ranking_element.get_text() for website_ranking_element in website_ranking]"
   ]
  },
  {
   "cell_type": "code",
   "execution_count": 147,
   "id": "b4be5f79",
   "metadata": {},
   "outputs": [
    {
     "name": "stdout",
     "output_type": "stream",
     "text": [
      "등수 1 : Google.com\n",
      "등수 2 : Naver.com\n",
      "등수 3 : Youtube.com\n",
      "등수 4 : Daum.net\n",
      "등수 5 : Tistory.com\n",
      "등수 6 : Kakao.com\n"
     ]
    }
   ],
   "source": [
    "for k in range(6):\n",
    "    print(\"등수 {0} : {1}\".format(k+1, website_ranking_address[k]))"
   ]
  },
  {
   "cell_type": "code",
   "execution_count": 148,
   "id": "5f241e76",
   "metadata": {},
   "outputs": [
    {
     "data": {
      "text/plain": [
       "list"
      ]
     },
     "execution_count": 148,
     "metadata": {},
     "output_type": "execute_result"
    }
   ],
   "source": [
    "type(website_ranking_address)"
   ]
  },
  {
   "cell_type": "code",
   "execution_count": 155,
   "id": "c46b87ea",
   "metadata": {},
   "outputs": [
    {
     "data": {
      "text/html": [
       "<div>\n",
       "<style scoped>\n",
       "    .dataframe tbody tr th:only-of-type {\n",
       "        vertical-align: middle;\n",
       "    }\n",
       "\n",
       "    .dataframe tbody tr th {\n",
       "        vertical-align: top;\n",
       "    }\n",
       "\n",
       "    .dataframe thead th {\n",
       "        text-align: right;\n",
       "    }\n",
       "</style>\n",
       "<table border=\"1\" class=\"dataframe\">\n",
       "  <thead>\n",
       "    <tr style=\"text-align: right;\">\n",
       "      <th></th>\n",
       "      <th>Website</th>\n",
       "    </tr>\n",
       "  </thead>\n",
       "  <tbody>\n",
       "    <tr>\n",
       "      <th>0</th>\n",
       "      <td>Google.com</td>\n",
       "    </tr>\n",
       "    <tr>\n",
       "      <th>1</th>\n",
       "      <td>Naver.com</td>\n",
       "    </tr>\n",
       "    <tr>\n",
       "      <th>2</th>\n",
       "      <td>Youtube.com</td>\n",
       "    </tr>\n",
       "    <tr>\n",
       "      <th>3</th>\n",
       "      <td>Daum.net</td>\n",
       "    </tr>\n",
       "    <tr>\n",
       "      <th>4</th>\n",
       "      <td>Tistory.com</td>\n",
       "    </tr>\n",
       "    <tr>\n",
       "      <th>5</th>\n",
       "      <td>Kakao.com</td>\n",
       "    </tr>\n",
       "  </tbody>\n",
       "</table>\n",
       "</div>"
      ],
      "text/plain": [
       "       Website\n",
       "0   Google.com\n",
       "1    Naver.com\n",
       "2  Youtube.com\n",
       "3     Daum.net\n",
       "4  Tistory.com\n",
       "5    Kakao.com"
      ]
     },
     "execution_count": 155,
     "metadata": {},
     "output_type": "execute_result"
    }
   ],
   "source": [
    "import pandas as pd\n",
    "\n",
    "website_ranking_dict = {\"Website\" : website_ranking_address}\n",
    "#df = pd.DataFrame(website_ranking_dict, columns=[\"website\"]), index=range(1, len(website_ranking_dict)+ 1)\n",
    "df = pd.DataFrame(website_ranking_dict)\n",
    "df[:6]"
   ]
  },
  {
   "cell_type": "markdown",
   "id": "a74498fc",
   "metadata": {},
   "source": [
    "# HTML : 뼈대,      CSS : 디자인,    JAVASCRIPT : 동적(움직임등 함수등을 사용가능)"
   ]
  },
  {
   "cell_type": "code",
   "execution_count": null,
   "id": "c614e6ef",
   "metadata": {},
   "outputs": [],
   "source": []
  },
  {
   "cell_type": "code",
   "execution_count": null,
   "id": "d905d6a7",
   "metadata": {},
   "outputs": [],
   "source": []
  },
  {
   "cell_type": "markdown",
   "id": "e961482a",
   "metadata": {},
   "source": [
    "# xpath, fullpat"
   ]
  },
  {
   "cell_type": "code",
   "execution_count": null,
   "id": "63761abc",
   "metadata": {},
   "outputs": [],
   "source": [
    "xpath = //*[@id=\"account\"]/a #찾는 것의 번짓수\n",
    "fullpath =/html/body/div[2]/div[3]/div[3]/div/div[2]/a #모든 태그를 타고 들어가서 처음부터 찾아내는 것."
   ]
  },
  {
   "cell_type": "markdown",
   "id": "1586dfa2",
   "metadata": {},
   "source": [
    "* requests"
   ]
  },
  {
   "cell_type": "code",
   "execution_count": 160,
   "id": "904fd4f4",
   "metadata": {},
   "outputs": [
    {
     "name": "stdout",
     "output_type": "stream",
     "text": [
      "정상입니다.\n"
     ]
    }
   ],
   "source": [
    "#오류가 나는 경우가 있다.\n",
    "import requests\n",
    "\n",
    "res = requests.get('http://google.com')\n",
    "\n",
    "if res.status_code == requests.codes.ok and 200: #or 200\n",
    "    print('정상입니다.')\n",
    "else:\n",
    "    print('문제가 생겼습니다.')\n"
   ]
  },
  {
   "cell_type": "code",
   "execution_count": 171,
   "id": "0aa2f93f",
   "metadata": {},
   "outputs": [
    {
     "name": "stdout",
     "output_type": "stream",
     "text": [
      "응답코드 : 200\n"
     ]
    }
   ],
   "source": [
    "import requests\n",
    "\n",
    "res = requests.get('http://google.com')\n",
    "\n",
    "res.raise_for_status() #응답코드 받아오기\n",
    "\n",
    "print('응답코드 :', res.status_code)"
   ]
  },
  {
   "cell_type": "code",
   "execution_count": 172,
   "id": "b05af4a1",
   "metadata": {},
   "outputs": [
    {
     "data": {
      "text/plain": [
       "14026"
      ]
     },
     "execution_count": 172,
     "metadata": {},
     "output_type": "execute_result"
    }
   ],
   "source": [
    "len(res.text)"
   ]
  },
  {
   "cell_type": "code",
   "execution_count": 173,
   "id": "213723e9",
   "metadata": {},
   "outputs": [],
   "source": [
    "with open(\"google.html\", 'w', encoding='utf8') as file:\n",
    "    file.write(res.text)"
   ]
  },
  {
   "cell_type": "markdown",
   "id": "bb9df5ac",
   "metadata": {},
   "source": [
    "* 정규표현식"
   ]
  },
  {
   "cell_type": "code",
   "execution_count": null,
   "id": "61e9ca8d",
   "metadata": {},
   "outputs": [],
   "source": [
    "주민등록번호\n",
    "111111-3333333\n",
    "\n",
    "이메일 주소\n",
    "soe@gmail.com"
   ]
  },
  {
   "cell_type": "code",
   "execution_count": 2,
   "id": "a358c61b",
   "metadata": {},
   "outputs": [
    {
     "data": {
      "text/plain": [
       "['care', 'cafe']"
      ]
     },
     "execution_count": 2,
     "metadata": {},
     "output_type": "execute_result"
    }
   ],
   "source": [
    "import re\n",
    "\n",
    "#ca?e라는 패스워드의 표현식\n",
    "#care, cafe, case, cave등등\n",
    "#caae, cabe, cace....\n",
    "\n",
    "p = re.compile('ca.e') #규칙생성.\n",
    "\n",
    "p.match('careless')#출력값이 나오면 문제 없음, 아무것도 안나오면 문제있음 \n",
    "\n",
    "#span은 구간이라서 0부터 4까지 매치됌.\n",
    "#주어진 문자열의 처음부터 일치하는지 확인. 처음이 다르면 노매치\n",
    "p.search('good care') #서치는 조금더 넓은 범위 주어진 문자열 중에 일치하는 것이 '있는지만'확인 둘중 하나만 사용\n",
    "\n",
    "p.findall('good care cafe')#만족하는 모든 것을 리스트 형태로 리턴"
   ]
  },
  {
   "cell_type": "code",
   "execution_count": 199,
   "id": "f921e2b4",
   "metadata": {},
   "outputs": [
    {
     "name": "stdout",
     "output_type": "stream",
     "text": [
      "care\n",
      "careless\n",
      "0\n",
      "4\n",
      "(0, 4)\n"
     ]
    }
   ],
   "source": [
    "def print_match(m):\n",
    "    print(m.group())\n",
    "    print(m.string) #입력받은 것을 반환\n",
    "    print(m.start()) #일치하는 문자열의 시작 인덱스\n",
    "    print(m.end()) #일치하는 문자열의 끝 인덱스\n",
    "    print(m.span()) #일치하는 문자열의 시작과 끝 인덱스\n",
    "    \n",
    "m = p.match('careless') #처음부터 일치하는지\n",
    "print_match(m)\n",
    "\n",
    "#p.search('good care') #서치는 조금더 넓은 범위 주어진 문자열 중에 일치하는 것이 '있는지만'확인 둘중 하나만 사용\n",
    "\n",
    "#p.findall('good care cafe')#만족하는 모든 것을 리스트 형태로 리턴\n",
    "    "
   ]
  },
  {
   "cell_type": "markdown",
   "id": "b64b7e97",
   "metadata": {},
   "source": [
    "# (ca.e)    :.의 의미는 어느 한 문자. 어느 문자든 한개라면 아무거나 가능.\n",
    "# ^ (^de ): 문자열의 시작 > desk, dextination, fade(X)\n",
    "# $ (se\\\\$): 문자열의 끝 > case, base, face는 안됌! ce잖음!"
   ]
  },
  {
   "cell_type": "code",
   "execution_count": 200,
   "id": "bf6d45ba",
   "metadata": {},
   "outputs": [
    {
     "data": {
      "text/plain": [
       "<re.Match object; span=(0, 5), match='hello'>"
      ]
     },
     "execution_count": 200,
     "metadata": {},
     "output_type": "execute_result"
    }
   ],
   "source": [
    "re.search('^hello', 'hello, world')"
   ]
  },
  {
   "cell_type": "code",
   "execution_count": 202,
   "id": "f46145b4",
   "metadata": {},
   "outputs": [
    {
     "data": {
      "text/plain": [
       "<re.Match object; span=(7, 12), match='world'>"
      ]
     },
     "execution_count": 202,
     "metadata": {},
     "output_type": "execute_result"
    }
   ],
   "source": [
    "re.search('world$', 'hello, world')"
   ]
  },
  {
   "cell_type": "code",
   "execution_count": 203,
   "id": "0518375c",
   "metadata": {},
   "outputs": [],
   "source": [
    "re.match('world$', 'hello, world') #match문법에서는 무조건 앞부터 탐색이기에 ^가 고정이라 $는 사용불가."
   ]
  },
  {
   "cell_type": "code",
   "execution_count": 204,
   "id": "29e300da",
   "metadata": {},
   "outputs": [
    {
     "data": {
      "text/plain": [
       "<re.Match object; span=(0, 5), match='hello'>"
      ]
     },
     "execution_count": 204,
     "metadata": {},
     "output_type": "execute_result"
    }
   ],
   "source": [
    "re.match('world|hello', 'hello, world') #or연산인 |를 사용해서 여러 개를 검색 가능"
   ]
  },
  {
   "cell_type": "code",
   "execution_count": 208,
   "id": "a3eef414",
   "metadata": {},
   "outputs": [],
   "source": [
    "#범위일때는 대괄호 안에 -를 넣고 *나 +을 붙인다. *은 0개이상 +은 1개이상이다. 둘다 앞에있는 수에 대하여임.\n",
    "#*b일때는 a가 0개이상 a+b는 a가 1개이상임\n",
    "re.match('a*b','qbq')"
   ]
  },
  {
   "cell_type": "code",
   "execution_count": 209,
   "id": "a8ef4732",
   "metadata": {},
   "outputs": [
    {
     "data": {
      "text/plain": [
       "<re.Match object; span=(0, 3), match='abd'>"
      ]
     },
     "execution_count": 209,
     "metadata": {},
     "output_type": "execute_result"
    }
   ],
   "source": [
    "re.match('abc?d', 'abd') #문자(범위)뒤의 >는 0개 또는 1개인지에 대한 판단이고 .은 아무 문자든 1개라도 있는지 판단 없으면 안됌."
   ]
  },
  {
   "cell_type": "code",
   "execution_count": 211,
   "id": "040c84e6",
   "metadata": {},
   "outputs": [
    {
     "data": {
      "text/plain": [
       "<re.Match object; span=(0, 4), match='ab3c'>"
      ]
     },
     "execution_count": 211,
     "metadata": {},
     "output_type": "execute_result"
    }
   ],
   "source": [
    "re.match('ab[0-9]?c', 'ab3c')"
   ]
  },
  {
   "cell_type": "code",
   "execution_count": 213,
   "id": "d4e48649",
   "metadata": {},
   "outputs": [],
   "source": [
    "re.match('ab.d', 'abcd') #.일때는 무조건 있어야 하기에 없으면 안된다.. 글자수가 같아야함"
   ]
  },
  {
   "cell_type": "code",
   "execution_count": 221,
   "id": "8280eb6d",
   "metadata": {},
   "outputs": [],
   "source": [
    "#[0-9]{개수}\n",
    "re.match('[0-9]{2, 3}-[0-9]{3, 4}-[0-9]{4}', '02-100-1000') #시작개수 끝개수를 정해주면 두 범위에 맞는지 확인하는 것임."
   ]
  },
  {
   "cell_type": "code",
   "execution_count": 216,
   "id": "a10df745",
   "metadata": {},
   "outputs": [
    {
     "data": {
      "text/plain": [
       "<re.Match object; span=(0, 11), match='02-100-1000'>"
      ]
     },
     "execution_count": 216,
     "metadata": {},
     "output_type": "execute_result"
    }
   ],
   "source": [
    "re.match('[0-9]{2}-[0-9]{3}-[0-9]{4}', '02-100-1000')"
   ]
  },
  {
   "cell_type": "code",
   "execution_count": 218,
   "id": "41449a24",
   "metadata": {},
   "outputs": [
    {
     "data": {
      "text/plain": [
       "<re.Match object; span=(0, 9), match='hello1234'>"
      ]
     },
     "execution_count": 218,
     "metadata": {},
     "output_type": "execute_result"
    }
   ],
   "source": [
    "re.match('[a-zA-Z0-9]+', 'hello1234')"
   ]
  },
  {
   "cell_type": "code",
   "execution_count": 222,
   "id": "b41be9b1",
   "metadata": {},
   "outputs": [],
   "source": [
    "re.match('[A-Z]+', 'hello')"
   ]
  },
  {
   "cell_type": "code",
   "execution_count": 223,
   "id": "f17eaec3",
   "metadata": {},
   "outputs": [],
   "source": [
    "re.match('[^A-Z]+', 'Hello')#범위 안에 ^가 있으면 포함하지 않는다는 것임."
   ]
  },
  {
   "cell_type": "code",
   "execution_count": 225,
   "id": "9b8b4b2b",
   "metadata": {},
   "outputs": [
    {
     "data": {
      "text/plain": [
       "<re.Match object; span=(0, 2), match='he'>"
      ]
     },
     "execution_count": 225,
     "metadata": {},
     "output_type": "execute_result"
    }
   ],
   "source": [
    "re.match('[^A-Z]+', 'heLlo')#중간에 끊기는건 괜찮 1개이상만 저게 아니면 됌\n",
    "#주의 대괄호 안에 있는지 밖에있는지 잘 보기"
   ]
  },
  {
   "cell_type": "markdown",
   "id": "12715ab8",
   "metadata": {},
   "source": [
    "# 특정범위 시작 ^[범위]+ 특정범위 끝 [범위]*\\$"
   ]
  },
  {
   "cell_type": "markdown",
   "id": "41454b68",
   "metadata": {},
   "source": [
    "## 특수문자는 \\특수문자임."
   ]
  },
  {
   "cell_type": "markdown",
   "id": "0f253553",
   "metadata": {},
   "source": [
    "## 하지만 []안에 있을 경우는 괜찮음"
   ]
  },
  {
   "cell_type": "code",
   "execution_count": 230,
   "id": "c1e7fb9d",
   "metadata": {},
   "outputs": [
    {
     "data": {
      "text/plain": [
       "<re.Match object; span=(0, 2), match='*#'>"
      ]
     },
     "execution_count": 230,
     "metadata": {},
     "output_type": "execute_result"
    }
   ],
   "source": [
    "re.search('\\*\\#', \"*#dd\")"
   ]
  },
  {
   "cell_type": "markdown",
   "id": "77b6d249",
   "metadata": {},
   "source": [
    "## 숫자범위는 \\d 숫자만 안되는 것은 \\D는 \\w 영문대소문자 숫자 밑줄문자 \\W는 문자 숫자 제외"
   ]
  },
  {
   "cell_type": "code",
   "execution_count": 232,
   "id": "373af440",
   "metadata": {},
   "outputs": [
    {
     "data": {
      "text/plain": [
       "<re.Match object; span=(0, 1), match='1'>"
      ]
     },
     "execution_count": 232,
     "metadata": {},
     "output_type": "execute_result"
    }
   ],
   "source": [
    "re.match('\\w', '124dasdasfad-_')"
   ]
  },
  {
   "cell_type": "code",
   "execution_count": 233,
   "id": "bc52e8c2",
   "metadata": {},
   "outputs": [],
   "source": [
    "re.match('\\W', '124dasdasfad-_')"
   ]
  },
  {
   "cell_type": "code",
   "execution_count": 234,
   "id": "2b6e7298",
   "metadata": {},
   "outputs": [
    {
     "data": {
      "text/plain": [
       "<re.Match object; span=(0, 1), match='!'>"
      ]
     },
     "execution_count": 234,
     "metadata": {},
     "output_type": "execute_result"
    }
   ],
   "source": [
    "re.match('\\W', '!@#$%!@#')"
   ]
  },
  {
   "cell_type": "code",
   "execution_count": 236,
   "id": "4ed504e9",
   "metadata": {},
   "outputs": [
    {
     "data": {
      "text/plain": [
       "<re.Match object; span=(0, 1), match='1'>"
      ]
     },
     "execution_count": 236,
     "metadata": {},
     "output_type": "execute_result"
    }
   ],
   "source": [
    "re.match('\\d', '124dasdasfad-_')"
   ]
  },
  {
   "cell_type": "code",
   "execution_count": 237,
   "id": "15102d51",
   "metadata": {},
   "outputs": [],
   "source": [
    "re.match('\\Dw', '124dasdasfad-_')"
   ]
  },
  {
   "cell_type": "code",
   "execution_count": 241,
   "id": "5ee6ac36",
   "metadata": {},
   "outputs": [],
   "source": [
    "#공백은 그냥 넣기\n",
    "re.match('a-zA-Z1-9 ', '       124dasdasfad-_')"
   ]
  },
  {
   "cell_type": "code",
   "execution_count": 325,
   "id": "462c3dd3",
   "metadata": {},
   "outputs": [],
   "source": [
    "p = re.compile('^[\\w+_.-]+\\@[\\w-]+\\.[\\w.-]+$')\n",
    "emails = ['chan@naver.com','pythion.dojan@e-xample.com','@exam.com', 'python@exam-com']"
   ]
  },
  {
   "cell_type": "code",
   "execution_count": 326,
   "id": "16dab23e",
   "metadata": {},
   "outputs": [
    {
     "name": "stdout",
     "output_type": "stream",
     "text": [
      "True True False False "
     ]
    }
   ],
   "source": [
    "for em in emails:\n",
    "    print(p.match(em) != None, end=' ')"
   ]
  },
  {
   "cell_type": "code",
   "execution_count": 10,
   "id": "5e81f4d7",
   "metadata": {},
   "outputs": [
    {
     "name": "stdout",
     "output_type": "stream",
     "text": [
      "False False False False "
     ]
    }
   ],
   "source": [
    "p = re.compile('[+-.\\w+]+\\++@[a-z-]+\\.[a-z]+')\n",
    "emails = ['chan@nav.e.r.c.o.kr','pythion.dojan@e-xample.com','@exam.com', 'python@exam-com']\n",
    "for em in emails:\n",
    "    print(p.match(em) != None, end=' ')"
   ]
  },
  {
   "cell_type": "markdown",
   "id": "9a179b70",
   "metadata": {},
   "source": [
    "* Uset Agent"
   ]
  },
  {
   "cell_type": "code",
   "execution_count": 15,
   "id": "4f0825a8",
   "metadata": {},
   "outputs": [],
   "source": [
    "import requests\n",
    "\n",
    "url = \"https://www.google.com\" \n",
    "\n",
    "hearders = {'user-Agent' : 'Mozilla/5.0 (Windows NT 10.0; Win64; x64) AppleWebKit/537.36 (KHTML, like Gecko) Chrome/91.0.4472.124 Safari/537.36'}\n",
    "#헤더는 user agent 즉 내 환경에 대한 내용.\n",
    "res = requests.get(url, hearders) #직접입력하는 것과 이렇게 프로그래밍적으로 하는 것은 다르다.\n",
    "#추가적으로 어떤 브라우저 어떤 환경이냐에 따라서 google.com이라고 쳐도 환경(user agnet라 한다.)에 따라 돌아오는 것은 다 다를 수도 있다.\n",
    "res.raise_for_status()"
   ]
  },
  {
   "cell_type": "code",
   "execution_count": null,
   "id": "c7a3dc45",
   "metadata": {},
   "outputs": [],
   "source": []
  }
 ],
 "metadata": {
  "kernelspec": {
   "display_name": "Python 3",
   "language": "python",
   "name": "python3"
  },
  "language_info": {
   "codemirror_mode": {
    "name": "ipython",
    "version": 3
   },
   "file_extension": ".py",
   "mimetype": "text/x-python",
   "name": "python",
   "nbconvert_exporter": "python",
   "pygments_lexer": "ipython3",
   "version": "3.8.8"
  }
 },
 "nbformat": 4,
 "nbformat_minor": 5
}
